{
  "metadata": {
    "language_info": {
      "codemirror_mode": {
        "name": "python",
        "version": 3
      },
      "file_extension": ".py",
      "mimetype": "text/x-python",
      "name": "python",
      "nbconvert_exporter": "python",
      "pygments_lexer": "ipython3",
      "version": "3.8"
    },
    "kernelspec": {
      "name": "python",
      "display_name": "Python (Pyodide)",
      "language": "python"
    }
  },
  "nbformat_minor": 4,
  "nbformat": 4,
  "cells": [
    {
      "cell_type": "markdown",
      "source": "# Data Science Tools and Ecosystem",
      "metadata": {
        "tags": []
      }
    },
    {
      "cell_type": "markdown",
      "source": "This is assignment entails the Week 6 Coursera assignment that summarises previous weeks of learning content. It includes Data Science introduction, and lists of tools, libraries and programming languages used in Data Science. Lastly, the notebook is to pe published via GitHub.",
      "metadata": {}
    },
    {
      "cell_type": "markdown",
      "source": "Some of the objectives of this notebook are:\n- to create markdown and code cells\n- to list examples of languages, libraries and tools used in Data Science\n- to share the Jupyter Notebook publicly on GitHub",
      "metadata": {}
    },
    {
      "cell_type": "markdown",
      "source": "### List of Data Science languages",
      "metadata": {
        "tags": []
      }
    },
    {
      "cell_type": "markdown",
      "source": "Some of the popular languages that Data Scientists use are:\n\n1. **C++**: an object-oriented programming language that is portable, generates a clear structure to programs and enables code to be reused.\n2. **Phyton**: the most popular and widely used language in data science. It provides a vast ecosystem of libraries, such as NumPy, pandas, scikit-learn, TensorFlow, and PyTorch, which make data manipulation, analysis, and machine learning tasks efficient and straightforward\n3. **Matlab**: broadly used in engineering and scientific fields as it provides a robust environment for numerical computing and data analysis via visualization.\n4. **JavaScript**: is a programming language that make up the World Wide Web alongside HTML and CSS.\n5. **C**: a general-purpose programming language created by Dennis Ritchie at the Bell Laboratories in 1972. It is a very popular language, despite being old. The main reason for its popularity is because it is a fundamental language in the field of computer science.\n6. **Julia**: a high-performance language for technical computing known for its speed and ease of use specifically for machine learning.\n7. **Scala**: used in big data processing frameworks like Apache Spark. It combines object-oriented and functional programming paradigms on top of its scalability and compatibility with Java.\n8. **R**: specifically designed for statistical computing and data analysis such as data visualization and statistical modeling.\n9. **SQL**: essential for working with relational databases. Data scientists often use SQL to query, manipulate, and retrieve data from databases especially when dealing with large datasets.\n10. **Java**: widely used in enterprise applications and big data ecosystems like Apache Hadoop. While it might not be as popular as Python or R for data science-specific tasks, it is essential in some data engineering and distributed computing scenarios.\n11. **SAS**: previously known as \"Statistical Analysis System\", it is a statistical software suite developed by SAS Institute for data management, advanced analytics, multivariate analysis, business intelligence, criminal investigation, and predictive analytics.\n\n",
      "metadata": {}
    },
    {
      "cell_type": "markdown",
      "source": "### List of Data Science libraries",
      "metadata": {
        "tags": []
      }
    },
    {
      "cell_type": "markdown",
      "source": "Some of the commonly used libraries used by Data Scientists include:\n\n1. **Scrapy**: a Python open-source web crawling framework used for large-scale web scraping. It effectively obtain data from websites to process and store them in one's preferred structure and format.\n2. **Keras**: an open-source library that provides a Python interface for artificial neural networks. It acts as an interface for the TensorFlow library and was developed with a focus on enabling fast experimentation. \n3.  **Matplotlib**: a library for data visualization in Python that provides a broad range of plotting functions to create many types of charts and graphs.  \n4. **Tensorflow**: an open-source deep learning library developed by Google where it offers an receptive framework for building and training machine learning models such as deep neural networks.\n5. **SciPy**: SciPy stands for Scientific Python and is a scientific computation library that uses NumPy. It provides more utility functions for optimization, stats and signal processing. SciPy is open source that can be used freely.\n6. **Scikit-learn**: a comprehensive machine learning library in Python. It provides a wide range of algorithms for regression, clustering, classification and so on with tools for model evaluation.\n7. **PyTorch**:  a deep learning library developed by Facebook known for its dynamic computation graph.\n8. **Seaborn**: Seaborn is built on top of Matplotlib and provides a high-level interface for developing meaningful statistical graphics.\n9. **Pandas**: a library for data manipulation and analysis. It offers data structures like DataFrame and Series that allow hadnling and manipulation of structured data.\n10. **NumPy**: a library for numerical computing in Python. It provides support for large, multi-dimensional arrays and matrices, along with a wide range of mathematical functions to operate on these arrays efficiently.\n11. **Plotly**: Plotly is a technical computing company that develops online data analytics and visualization tools.",
      "metadata": {}
    },
    {
      "cell_type": "markdown",
      "source": "### Data Science Tools",
      "metadata": {}
    },
    {
      "cell_type": "markdown",
      "source": "| No | Tools | Purpose | Type | Language |\n| -- | ------ | ------- | ---- | -------- |\n| 1 | Microsoft Power BI | Business analytics and visualization | Tool | Proprietary |\n| 2 | RapidMiner | Data science platform | Platform | Java | \n| 3 | Apache Spark | Distributed data processing | Framework | Java, Scala |\n| 4 | KNIME | Data analytics platform | Platform | Java |\n| 5 | Tableau | Business intelligence and visualization | Tool | Proprietary |\n| 6 | Seaborn | Statistical data visualization | Library | Python |   \n| 7 | Matplotlib | Data visualization library | Library | Python |\n| 8 | Excel | Spreadsheet software | Tool | Proprietary |\n| 9 | Apache Hadoop | Distributed storage and processing | Framework | Java | \n| 10 | TensorFlow | Machine learning platform | Platform | Python |\n| 11 | Project Jupiter | Interactive computing environment | IDE | Python |\n| 12 | MATLAB | Programming and numeric computing platform | Platform | C, C++, Python |\n| 13 | WEKA | Machine learning software | Tool | Java |\n| 14 | Scikit-learn | Machine learning library | Library | Python |\n| 15 | NumPy | Numerical computing library | Library | Python |\n| 16 | spaCy | Advanced natural language processing | Library | Python | \n| 17 |  MongoDB | Data management, retrieval and storage | Library | C++, JavaScript, Python | \n| 18 | Plotly | Interactive data visualization | Library | Python | \n| 19 | Orange | Data visualization and analysis | Tool | Python |\n| 20 | D3.js | Interactive data visualization | Library | JavaScript |\n| 21 | SciPy | Scientific and technical computing | Library | Python |",
      "metadata": {
        "tags": []
      }
    },
    {
      "cell_type": "markdown",
      "source": "### Introducing arithmetic expression examples",
      "metadata": {}
    },
    {
      "cell_type": "markdown",
      "source": "**List of arithmetic expressions in Python**\n\n1. Addition\n2. Substraction\n3. Multiplication\n4. Division\n5. Modulo\n6. Exponentiation\n7. Floor Division",
      "metadata": {
        "jupyter": {
          "source_hidden": true
        },
        "tags": []
      }
    },
    {
      "cell_type": "markdown",
      "source": "**Addition arthmetic expression example**",
      "metadata": {}
    },
    {
      "cell_type": "code",
      "source": "x = 10\ny = 20\nresult = x + y\nprint(\"output =\", result)",
      "metadata": {
        "trusted": true
      },
      "execution_count": 41,
      "outputs": [
        {
          "name": "stdout",
          "text": "output = [18]\n",
          "output_type": "stream"
        }
      ]
    },
    {
      "cell_type": "markdown",
      "source": "**Substraction arthmetic expression example**",
      "metadata": {}
    },
    {
      "cell_type": "code",
      "source": "a = 100\nb = 50\nresult = a - b\nprint(\"output =\", result)",
      "metadata": {
        "trusted": true
      },
      "execution_count": 40,
      "outputs": [
        {
          "name": "stdout",
          "text": "output = 50\n",
          "output_type": "stream"
        }
      ]
    },
    {
      "cell_type": "markdown",
      "source": "**Multiplication arthmetic expression example**",
      "metadata": {}
    },
    {
      "cell_type": "code",
      "source": "num1 = 20\nnum2 = 5\nresult = num1 * num2\nprint(\"output =\", result)",
      "metadata": {
        "trusted": true
      },
      "execution_count": 39,
      "outputs": [
        {
          "name": "stdout",
          "text": "output = 100\n",
          "output_type": "stream"
        }
      ]
    },
    {
      "cell_type": "markdown",
      "source": "**Division arthmetic expression example**",
      "metadata": {}
    },
    {
      "cell_type": "code",
      "source": "numerator = 15\ndenominator = 3\nresult = numerator / denominator\nprint(\"output =\", result)",
      "metadata": {
        "trusted": true
      },
      "execution_count": 38,
      "outputs": [
        {
          "name": "stdout",
          "text": "output = 5.0\n",
          "output_type": "stream"
        }
      ]
    },
    {
      "cell_type": "markdown",
      "source": "**Modulo arthmetic expression example**",
      "metadata": {}
    },
    {
      "cell_type": "code",
      "source": "a = 23\nb = 8\nresult = a % b\nprint(\"output =\", result)",
      "metadata": {
        "trusted": true
      },
      "execution_count": 37,
      "outputs": [
        {
          "name": "stdout",
          "text": "output = 7\n",
          "output_type": "stream"
        }
      ]
    },
    {
      "cell_type": "markdown",
      "source": "**Exponentiation arthmetic expression example**",
      "metadata": {}
    },
    {
      "cell_type": "code",
      "source": "base = 4\nexponent = 6\nresult = base ** exponent\nprint(\"output =\", result)",
      "metadata": {
        "trusted": true
      },
      "execution_count": 34,
      "outputs": [
        {
          "name": "stdout",
          "text": "output = 4096\n",
          "output_type": "stream"
        }
      ]
    },
    {
      "cell_type": "markdown",
      "source": "**Floor-Division arthmetic expression example**",
      "metadata": {}
    },
    {
      "cell_type": "code",
      "source": "x = 100\ny = 50\nresult = x // y\nprint(\"output =\", result)",
      "metadata": {
        "trusted": true
      },
      "execution_count": 36,
      "outputs": [
        {
          "name": "stdout",
          "text": "output = 2\n",
          "output_type": "stream"
        }
      ]
    },
    {
      "cell_type": "markdown",
      "source": "### Multiply and add numbers",
      "metadata": {
        "tags": []
      }
    },
    {
      "cell_type": "markdown",
      "source": "This a simple arithmetic expression to multiply then add integers\nEvaluate the expression (4*2)+10 ",
      "metadata": {}
    },
    {
      "cell_type": "code",
      "source": "x = 4\ny = 2\nmultiply = (x*y)+10\nprint(\"Output =\", multiply)",
      "metadata": {
        "trusted": true
      },
      "execution_count": 57,
      "outputs": [
        {
          "name": "stdout",
          "text": "Output = 18\n",
          "output_type": "stream"
        }
      ]
    },
    {
      "cell_type": "markdown",
      "source": "### Converting minutes to hours",
      "metadata": {}
    },
    {
      "cell_type": "markdown",
      "source": "This exercise entails converting 200 minutes into hours. \nThis will convert 200 minutes to hours by diving by 60",
      "metadata": {}
    },
    {
      "cell_type": "code",
      "source": "minutes = 200\nhours = minutes / 60\nprint(minutes,\"minutes in hours: {:.2f} Hours\".format(hours))",
      "metadata": {
        "trusted": true
      },
      "execution_count": 59,
      "outputs": [
        {
          "name": "stdout",
          "text": "200 minutes in hours: 3.33 Hours\n",
          "output_type": "stream"
        }
      ]
    },
    {
      "cell_type": "markdown",
      "source": "**Objectives**",
      "metadata": {
        "tags": []
      }
    },
    {
      "cell_type": "markdown",
      "source": "The objectives of this notebook are such as:\n\n- creating markdown and code cells\n- descriptive text through listing examples of languages, libraries and tools used in Data Science\n- sharing the Jupyter Notebook publicly on GitHub\n- demonstrating proficiency in data visualisation and overall Data Science toolkit knowledge\n- evaluating other computational artifacts and notebooks submitted by peers using the provided rubric\n \n",
      "metadata": {}
    },
    {
      "cell_type": "markdown",
      "source": "## Author",
      "metadata": {}
    },
    {
      "cell_type": "markdown",
      "source": "Shahira Najia Jamil",
      "metadata": {}
    },
    {
      "cell_type": "markdown",
      "source": "### Exercise 12: Share your notebook through GitHub",
      "metadata": {}
    },
    {
      "cell_type": "code",
      "source": "",
      "metadata": {},
      "execution_count": null,
      "outputs": []
    },
    {
      "cell_type": "markdown",
      "source": "### Exercise 13: Take a screenshot of the first page of the notebook.",
      "metadata": {}
    },
    {
      "cell_type": "code",
      "source": "",
      "metadata": {},
      "execution_count": null,
      "outputs": []
    }
  ]
}